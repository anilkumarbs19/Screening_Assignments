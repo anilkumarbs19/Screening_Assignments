{
 "cells": [
  {
   "cell_type": "code",
   "execution_count": 1,
   "metadata": {},
   "outputs": [],
   "source": [
    "##program to creat a file \n",
    "\n",
    "def creat_afile():\n",
    "    file = open(\"example.txt\",\"w\")\n",
    "    userinput= input(\"enter text to be created : \")\n",
    "    file.write(userinput)\n",
    "    file.close()"
   ]
  },
  {
   "cell_type": "code",
   "execution_count": 2,
   "metadata": {},
   "outputs": [
    {
     "name": "stdout",
     "output_type": "stream",
     "text": [
      "enter text to be created : This is a placement assignment\n"
     ]
    }
   ],
   "source": [
    "creat_afile()"
   ]
  },
  {
   "cell_type": "code",
   "execution_count": 3,
   "metadata": {},
   "outputs": [
    {
     "data": {
      "text/plain": [
       "'This is a placement assignment'"
      ]
     },
     "execution_count": 3,
     "metadata": {},
     "output_type": "execute_result"
    }
   ],
   "source": [
    "file = open(\"example.txt\")\n",
    "file.read()"
   ]
  },
  {
   "cell_type": "code",
   "execution_count": 4,
   "metadata": {},
   "outputs": [],
   "source": [
    "## program to replace text in a file\n",
    "\n",
    "def text_replacement():\n",
    "    x = input(\"enter text to be replaced:\")\n",
    "    y = input(\"enter text that will replace as:\")\n",
    "    f = open(\"example.txt\", \"r+\")\n",
    "# each sentence becomes an element in the list l\n",
    "    l = f.readlines()\n",
    " # acts as a counter to know the\n",
    "# index of the element to be replaced\n",
    "    c = 0\n",
    "    for i in l:\n",
    "        if x in i:\n",
    "            replace_text = i.replace(x, y,)\n",
    "            l = replace_text\n",
    "            print(\"Text successfully replaced\")\n",
    "        else:\n",
    "            print(\"text not found or entered text is case sensitive\")\n",
    "            break\n",
    "    c += 1\n",
    "    f.truncate()\n",
    "    f.seek(0)\n",
    "# the modified list is written into\n",
    "# the file thereby replacing the old text\n",
    "    f.writelines(l)\n",
    "    f.close()"
   ]
  },
  {
   "cell_type": "code",
   "execution_count": 5,
   "metadata": {},
   "outputs": [
    {
     "name": "stdout",
     "output_type": "stream",
     "text": [
      "enter text to be replaced:placement\n",
      "enter text that will replace as:screening\n",
      "Text successfully replaced\n"
     ]
    }
   ],
   "source": [
    "text_replacement()"
   ]
  },
  {
   "cell_type": "code",
   "execution_count": 6,
   "metadata": {},
   "outputs": [
    {
     "data": {
      "text/plain": [
       "'This is a screening assignment'"
      ]
     },
     "execution_count": 6,
     "metadata": {},
     "output_type": "execute_result"
    }
   ],
   "source": [
    "file = open(\"example.txt\")\n",
    "file.read()"
   ]
  },
  {
   "cell_type": "code",
   "execution_count": 7,
   "metadata": {},
   "outputs": [
    {
     "name": "stdout",
     "output_type": "stream",
     "text": [
      "enter text to be replaced:screenning\n",
      "enter text that will replace as:open\n",
      "text not found or entered text is case sensitive\n"
     ]
    }
   ],
   "source": [
    "##Now let us check for validation by giving wrong inputs\n",
    "##we take 2 examples one with wrong spelling & other case sensitive with integers\n",
    "## Now example 1, lets call the text replacement function\n",
    "\n",
    "text_replacement()"
   ]
  },
  {
   "cell_type": "code",
   "execution_count": 8,
   "metadata": {},
   "outputs": [
    {
     "name": "stdout",
     "output_type": "stream",
     "text": [
      "enter text to be replaced:SCREENING123\n",
      "enter text that will replace as:OPEN\n",
      "text not found or entered text is case sensitive\n"
     ]
    }
   ],
   "source": [
    "## now for example 2 lets call the function again\n",
    "text_replacement()"
   ]
  },
  {
   "cell_type": "code",
   "execution_count": null,
   "metadata": {},
   "outputs": [],
   "source": [
    "## in both example validations you can observe that the funcation throws an error."
   ]
  }
 ],
 "metadata": {
  "kernelspec": {
   "display_name": "Python 3",
   "language": "python",
   "name": "python3"
  },
  "language_info": {
   "codemirror_mode": {
    "name": "ipython",
    "version": 3
   },
   "file_extension": ".py",
   "mimetype": "text/x-python",
   "name": "python",
   "nbconvert_exporter": "python",
   "pygments_lexer": "ipython3",
   "version": "3.8.3"
  }
 },
 "nbformat": 4,
 "nbformat_minor": 4
}
